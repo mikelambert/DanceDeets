{
 "cells": [
  {
   "cell_type": "code",
   "execution_count": 1,
   "metadata": {
    "collapsed": false
   },
   "outputs": [
    {
     "data": {
      "text/html": [
       "\n",
       "    <div class=\"bqsv\" id=\"1_145877516360\"></div>\n",
       "    <script>\n",
       "      require(['extensions/bigquery', 'element!1_145877516360', 'style!/static/extensions/bigquery.css'],\n",
       "        function(bq, dom) {\n",
       "          bq.renderSchema(dom, [{\"description\": \"auto_categories\", \"type\": \"STRING\", \"name\": \"auto_categories\", \"mode\": \"REPEATED\"}, {\"description\": \"attendee_count\", \"type\": \"INTEGER\", \"name\": \"attendee_count\", \"mode\": \"NULLABLE\"}, {\"description\": \"creation_time\", \"type\": \"TIMESTAMP\", \"name\": \"creation_time\", \"mode\": \"NULLABLE\"}, {\"description\": \"geohashes\", \"type\": \"STRING\", \"name\": \"geohashes\", \"mode\": \"REPEATED\"}, {\"description\": \"event_keywords\", \"type\": \"STRING\", \"name\": \"event_keywords\", \"mode\": \"REPEATED\"}, {\"description\": \"search_regions\", \"type\": \"STRING\", \"name\": \"search_regions\", \"mode\": \"REPEATED\"}, {\"description\": \"tags\", \"type\": \"STRING\", \"name\": \"tags\", \"mode\": \"REPEATED\"}, {\"description\": \"creating_fb_uid\", \"type\": \"INTEGER\", \"name\": \"creating_fb_uid\", \"mode\": \"NULLABLE\"}, {\"description\": \"search_time_period\", \"type\": \"STRING\", \"name\": \"search_time_period\", \"mode\": \"NULLABLE\"}, {\"description\": \"latitude\", \"type\": \"FLOAT\", \"name\": \"latitude\", \"mode\": \"NULLABLE\"}, {\"description\": \"end_time\", \"type\": \"TIMESTAMP\", \"name\": \"end_time\", \"mode\": \"NULLABLE\"}, {\"description\": \"owner_fb_uid\", \"type\": \"STRING\", \"name\": \"owner_fb_uid\", \"mode\": \"NULLABLE\"}, {\"description\": \"search_tags\", \"type\": \"STRING\", \"name\": \"search_tags\", \"mode\": \"REPEATED\"}, {\"description\": \"creating_method\", \"type\": \"STRING\", \"name\": \"creating_method\", \"mode\": \"NULLABLE\"}, {\"description\": \"start_time\", \"type\": \"TIMESTAMP\", \"name\": \"start_time\", \"mode\": \"NULLABLE\"}, {\"description\": \"address\", \"type\": \"STRING\", \"name\": \"address\", \"mode\": \"NULLABLE\"}, {\"description\": \"city_name\", \"type\": \"STRING\", \"name\": \"city_name\", \"mode\": \"NULLABLE\"}, {\"description\": \"country\", \"type\": \"STRING\", \"name\": \"country\", \"mode\": \"NULLABLE\"}, {\"description\": \"longitude\", \"type\": \"FLOAT\", \"name\": \"longitude\", \"mode\": \"NULLABLE\"}, {\"description\": \"visible_to_fb_uids\", \"type\": \"STRING\", \"name\": \"visible_to_fb_uids\", \"mode\": \"REPEATED\"}, {\"description\": \"anywhere\", \"type\": \"BOOLEAN\", \"name\": \"anywhere\", \"mode\": \"NULLABLE\"}, {\"description\": \"actual_city_name\", \"type\": \"STRING\", \"name\": \"actual_city_name\", \"mode\": \"NULLABLE\"}, {\"fields\": [{\"type\": \"STRING\", \"name\": \"namespace\", \"mode\": \"NULLABLE\"}, {\"type\": \"STRING\", \"name\": \"app\", \"mode\": \"NULLABLE\"}, {\"type\": \"STRING\", \"name\": \"path\", \"mode\": \"NULLABLE\"}, {\"type\": \"STRING\", \"name\": \"kind\", \"mode\": \"NULLABLE\"}, {\"type\": \"STRING\", \"name\": \"name\", \"mode\": \"NULLABLE\"}, {\"type\": \"INTEGER\", \"name\": \"id\", \"mode\": \"NULLABLE\"}], \"type\": \"RECORD\", \"name\": \"__key__\", \"mode\": \"NULLABLE\"}, {\"type\": \"STRING\", \"name\": \"__error__\", \"mode\": \"REPEATED\"}, {\"type\": \"BOOLEAN\", \"name\": \"__has_error__\", \"mode\": \"NULLABLE\"}]);\n",
       "        }\n",
       "      );\n",
       "    </script>\n",
       "    "
      ],
      "text/plain": [
       "<IPython.core.display.HTML object>"
      ]
     },
     "execution_count": 1,
     "metadata": {},
     "output_type": "execute_result"
    }
   ],
   "source": [
    "%%bigquery schema --table \"dancedeets-hrd:dance_events.dance_events\""
   ]
  },
  {
   "cell_type": "code",
   "execution_count": null,
   "metadata": {
    "collapsed": true
   },
   "outputs": [],
   "source": [
    "%%bigquery --table \"dancedeets-hrd:dance_events.dance_events\""
   ]
  }
 ],
 "metadata": {
  "kernelspec": {
   "display_name": "Python 2",
   "language": "python",
   "name": "python2"
  },
  "language_info": {
   "codemirror_mode": {
    "name": "ipython",
    "version": 2
   },
   "file_extension": ".py",
   "mimetype": "text/x-python",
   "name": "python",
   "nbconvert_exporter": "python",
   "pygments_lexer": "ipython2",
   "version": "2.7.9"
  }
 },
 "nbformat": 4,
 "nbformat_minor": 0
}
