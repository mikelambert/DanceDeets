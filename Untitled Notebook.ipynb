{
 "cells": [
  {
   "cell_type": "code",
   "execution_count": 10,
   "metadata": {
    "collapsed": false
   },
   "outputs": [
    {
     "data": {
      "text/html": [
       "\n",
       "    <div class=\"bqsv\" id=\"2_145877554667\"></div>\n",
       "    <script>\n",
       "      require(['extensions/bigquery', 'element!2_145877554667', 'style!/static/extensions/bigquery.css'],\n",
       "        function(bq, dom) {\n",
       "          bq.renderSchema(dom, [{\"description\": \"auto_categories\", \"type\": \"STRING\", \"name\": \"auto_categories\", \"mode\": \"REPEATED\"}, {\"description\": \"attendee_count\", \"type\": \"INTEGER\", \"name\": \"attendee_count\", \"mode\": \"NULLABLE\"}, {\"description\": \"creation_time\", \"type\": \"TIMESTAMP\", \"name\": \"creation_time\", \"mode\": \"NULLABLE\"}, {\"description\": \"geohashes\", \"type\": \"STRING\", \"name\": \"geohashes\", \"mode\": \"REPEATED\"}, {\"description\": \"event_keywords\", \"type\": \"STRING\", \"name\": \"event_keywords\", \"mode\": \"REPEATED\"}, {\"description\": \"search_regions\", \"type\": \"STRING\", \"name\": \"search_regions\", \"mode\": \"REPEATED\"}, {\"description\": \"tags\", \"type\": \"STRING\", \"name\": \"tags\", \"mode\": \"REPEATED\"}, {\"description\": \"creating_fb_uid\", \"type\": \"INTEGER\", \"name\": \"creating_fb_uid\", \"mode\": \"NULLABLE\"}, {\"description\": \"search_time_period\", \"type\": \"STRING\", \"name\": \"search_time_period\", \"mode\": \"NULLABLE\"}, {\"description\": \"latitude\", \"type\": \"FLOAT\", \"name\": \"latitude\", \"mode\": \"NULLABLE\"}, {\"description\": \"end_time\", \"type\": \"TIMESTAMP\", \"name\": \"end_time\", \"mode\": \"NULLABLE\"}, {\"description\": \"owner_fb_uid\", \"type\": \"STRING\", \"name\": \"owner_fb_uid\", \"mode\": \"NULLABLE\"}, {\"description\": \"search_tags\", \"type\": \"STRING\", \"name\": \"search_tags\", \"mode\": \"REPEATED\"}, {\"description\": \"creating_method\", \"type\": \"STRING\", \"name\": \"creating_method\", \"mode\": \"NULLABLE\"}, {\"description\": \"start_time\", \"type\": \"TIMESTAMP\", \"name\": \"start_time\", \"mode\": \"NULLABLE\"}, {\"description\": \"address\", \"type\": \"STRING\", \"name\": \"address\", \"mode\": \"NULLABLE\"}, {\"description\": \"city_name\", \"type\": \"STRING\", \"name\": \"city_name\", \"mode\": \"NULLABLE\"}, {\"description\": \"country\", \"type\": \"STRING\", \"name\": \"country\", \"mode\": \"NULLABLE\"}, {\"description\": \"longitude\", \"type\": \"FLOAT\", \"name\": \"longitude\", \"mode\": \"NULLABLE\"}, {\"description\": \"visible_to_fb_uids\", \"type\": \"STRING\", \"name\": \"visible_to_fb_uids\", \"mode\": \"REPEATED\"}, {\"description\": \"anywhere\", \"type\": \"BOOLEAN\", \"name\": \"anywhere\", \"mode\": \"NULLABLE\"}, {\"description\": \"actual_city_name\", \"type\": \"STRING\", \"name\": \"actual_city_name\", \"mode\": \"NULLABLE\"}, {\"fields\": [{\"type\": \"STRING\", \"name\": \"namespace\", \"mode\": \"NULLABLE\"}, {\"type\": \"STRING\", \"name\": \"app\", \"mode\": \"NULLABLE\"}, {\"type\": \"STRING\", \"name\": \"path\", \"mode\": \"NULLABLE\"}, {\"type\": \"STRING\", \"name\": \"kind\", \"mode\": \"NULLABLE\"}, {\"type\": \"STRING\", \"name\": \"name\", \"mode\": \"NULLABLE\"}, {\"type\": \"INTEGER\", \"name\": \"id\", \"mode\": \"NULLABLE\"}], \"type\": \"RECORD\", \"name\": \"__key__\", \"mode\": \"NULLABLE\"}, {\"type\": \"STRING\", \"name\": \"__error__\", \"mode\": \"REPEATED\"}, {\"type\": \"BOOLEAN\", \"name\": \"__has_error__\", \"mode\": \"NULLABLE\"}]);\n",
       "        }\n",
       "      );\n",
       "    </script>\n",
       "    "
      ],
      "text/plain": [
       "<IPython.core.display.HTML object>"
      ]
     },
     "execution_count": 10,
     "metadata": {},
     "output_type": "execute_result"
    }
   ],
   "source": [
    "%%bigquery schema --table \"dancedeets-hrd:dance_events.dance_events\""
   ]
  },
  {
   "cell_type": "code",
   "execution_count": 19,
   "metadata": {
    "collapsed": false
   },
   "outputs": [
    {
     "data": {
      "text/html": [
       "\n",
       "    <div class=\"bqtv\" id=\"5_145877586678\"><table><tr><th>date</th><th>f0_</th></tr><tr><td>&nbsp;</td><td>1901</td></tr><tr><td>1913-09-20</td><td>1</td></tr><tr><td>1969-12-31</td><td>1</td></tr><tr><td>1976-07-04</td><td>1</td></tr><tr><td>2001-06-07</td><td>1</td></tr><tr><td>2002-01-25</td><td>1</td></tr><tr><td>2002-02-03</td><td>1</td></tr><tr><td>2002-06-02</td><td>1</td></tr><tr><td>2002-07-10</td><td>1</td></tr><tr><td>2002-07-15</td><td>1</td></tr><tr><td>2002-11-04</td><td>1</td></tr><tr><td>2002-11-24</td><td>1</td></tr><tr><td>2007-07-21</td><td>1</td></tr><tr><td>2007-08-24</td><td>1</td></tr><tr><td>2007-09-01</td><td>1</td></tr><tr><td>2007-09-06</td><td>1</td></tr><tr><td>2007-09-07</td><td>1</td></tr><tr><td>2007-09-29</td><td>1</td></tr><tr><td>2007-10-25</td><td>1</td></tr><tr><td>2007-11-03</td><td>2</td></tr><tr><td>2007-11-17</td><td>1</td></tr><tr><td>2007-11-30</td><td>1</td></tr><tr><td>2007-12-02</td><td>1</td></tr><tr><td>2007-12-04</td><td>1</td></tr><tr><td>2007-12-05</td><td>1</td></tr></table></div>\n",
       "    <br />(rows: 2867, time: 1.1s,   721KB processed, job: job_kgQAAtTGSnQl4VMX6KjqnY9KP7Y)<br />\n",
       "    <script>\n",
       "      require(['extensions/charting', 'element!5_145877586678', 'style!/static/extensions/charting.css'],\n",
       "        function(charts, dom) {\n",
       "          charts.render(dom,\n",
       "            {\n",
       "              chartStyle:\"paged_table\",\n",
       "              dataName:\"2\",\n",
       "              fields:\"date,f0_\",\n",
       "              totalRows:2867,\n",
       "              rowsPerPage:25,\n",
       "            }, {}, {\"rows\": [{\"c\": [{\"v\": null}, {\"v\": 1901}]}, {\"c\": [{\"v\": \"1913-09-20\"}, {\"v\": 1}]}, {\"c\": [{\"v\": \"1969-12-31\"}, {\"v\": 1}]}, {\"c\": [{\"v\": \"1976-07-04\"}, {\"v\": 1}]}, {\"c\": [{\"v\": \"2001-06-07\"}, {\"v\": 1}]}, {\"c\": [{\"v\": \"2002-01-25\"}, {\"v\": 1}]}, {\"c\": [{\"v\": \"2002-02-03\"}, {\"v\": 1}]}, {\"c\": [{\"v\": \"2002-06-02\"}, {\"v\": 1}]}, {\"c\": [{\"v\": \"2002-07-10\"}, {\"v\": 1}]}, {\"c\": [{\"v\": \"2002-07-15\"}, {\"v\": 1}]}, {\"c\": [{\"v\": \"2002-11-04\"}, {\"v\": 1}]}, {\"c\": [{\"v\": \"2002-11-24\"}, {\"v\": 1}]}, {\"c\": [{\"v\": \"2007-07-21\"}, {\"v\": 1}]}, {\"c\": [{\"v\": \"2007-08-24\"}, {\"v\": 1}]}, {\"c\": [{\"v\": \"2007-09-01\"}, {\"v\": 1}]}, {\"c\": [{\"v\": \"2007-09-06\"}, {\"v\": 1}]}, {\"c\": [{\"v\": \"2007-09-07\"}, {\"v\": 1}]}, {\"c\": [{\"v\": \"2007-09-29\"}, {\"v\": 1}]}, {\"c\": [{\"v\": \"2007-10-25\"}, {\"v\": 1}]}, {\"c\": [{\"v\": \"2007-11-03\"}, {\"v\": 2}]}, {\"c\": [{\"v\": \"2007-11-17\"}, {\"v\": 1}]}, {\"c\": [{\"v\": \"2007-11-30\"}, {\"v\": 1}]}, {\"c\": [{\"v\": \"2007-12-02\"}, {\"v\": 1}]}, {\"c\": [{\"v\": \"2007-12-04\"}, {\"v\": 1}]}, {\"c\": [{\"v\": \"2007-12-05\"}, {\"v\": 1}]}], \"cols\": [{\"type\": \"string\", \"id\": \"date\", \"label\": \"date\"}, {\"type\": \"number\", \"id\": \"f0_\", \"label\": \"f0_\"}]});\n",
       "        }\n",
       "      );\n",
       "    </script>\n",
       "  "
      ],
      "text/plain": [
       "QueryResultsTable job_kgQAAtTGSnQl4VMX6KjqnY9KP7Y"
      ]
     },
     "execution_count": 19,
     "metadata": {},
     "output_type": "execute_result"
    }
   ],
   "source": [
    "%%bigquery execute\n",
    "SELECT DATE(start_time) as date, COUNT(*) FROM dance_events.dance_events group by date ORDER BY date;\n"
   ]
  },
  {
   "cell_type": "code",
   "execution_count": null,
   "metadata": {
    "collapsed": true
   },
   "outputs": [],
   "source": []
  },
  {
   "cell_type": "code",
   "execution_count": null,
   "metadata": {
    "collapsed": true
   },
   "outputs": [],
   "source": []
  },
  {
   "cell_type": "code",
   "execution_count": null,
   "metadata": {
    "collapsed": true
   },
   "outputs": [],
   "source": []
  },
  {
   "cell_type": "code",
   "execution_count": null,
   "metadata": {
    "collapsed": true
   },
   "outputs": [],
   "source": []
  },
  {
   "cell_type": "code",
   "execution_count": null,
   "metadata": {
    "collapsed": true
   },
   "outputs": [],
   "source": []
  },
  {
   "cell_type": "code",
   "execution_count": null,
   "metadata": {
    "collapsed": true
   },
   "outputs": [],
   "source": []
  },
  {
   "cell_type": "code",
   "execution_count": null,
   "metadata": {
    "collapsed": true
   },
   "outputs": [],
   "source": []
  },
  {
   "cell_type": "code",
   "execution_count": null,
   "metadata": {
    "collapsed": true
   },
   "outputs": [],
   "source": []
  },
  {
   "cell_type": "code",
   "execution_count": null,
   "metadata": {
    "collapsed": true
   },
   "outputs": [],
   "source": []
  },
  {
   "cell_type": "code",
   "execution_count": null,
   "metadata": {
    "collapsed": true
   },
   "outputs": [],
   "source": []
  }
 ],
 "metadata": {
  "kernelspec": {
   "display_name": "Python 2",
   "language": "python",
   "name": "python2"
  },
  "language_info": {
   "codemirror_mode": {
    "name": "ipython",
    "version": 2
   },
   "file_extension": ".py",
   "mimetype": "text/x-python",
   "name": "python",
   "nbconvert_exporter": "python",
   "pygments_lexer": "ipython2",
   "version": "2.7.9"
  }
 },
 "nbformat": 4,
 "nbformat_minor": 0
}
