{
 "cells": [
  {
   "cell_type": "code",
   "execution_count": null,
   "metadata": {
    "collapsed": false
   },
   "outputs": [],
   "source": [
    "%%bigquery schema --table \"dancedeets-hrd:dance_events.dance_events\""
   ]
  },
  {
   "cell_type": "code",
   "execution_count": 18,
   "metadata": {
    "collapsed": false
   },
   "outputs": [
    {
     "name": "stdout",
     "output_type": "stream",
     "text": [
      "usage: bigquery execute [-h] [-nc] [-m {create,append,overwrite}] [-l]\n",
      "                        [-q QUERY] [-t TARGET] [-v]\n",
      "\n",
      "optional arguments:\n",
      "  -h, --help            show this help message and exit\n",
      "  -nc, --nocache        Don't used previously cached results\n",
      "  -m {create,append,overwrite}, --mode {create,append,overwrite}\n",
      "                        The table creation mode\n",
      "  -l, --large           Whether to allow large results\n",
      "  -q QUERY, --query QUERY\n",
      "                        The name of query to run\n",
      "  -t TARGET, --target TARGET\n",
      "                        target table name\n",
      "  -v, --verbose         Show the expanded SQL that is being executed\n"
     ]
    }
   ],
   "source": [
    "%%bigquery execute -h\n",
    "--module timeseries\n",
    "SELECT DATE(start_time) as date, COUNT(*) FROM dance_events.dance_events group by date ORDER BY date;\n"
   ]
  },
  {
   "cell_type": "code",
   "execution_count": 13,
   "metadata": {
    "collapsed": false
   },
   "outputs": [
    {
     "name": "stderr",
     "output_type": "stream",
     "text": [
      "invalidQuery: Encountered \" \"%\" \"% \"\" at line 2, column 1.\n",
      "Was expecting:\n",
      "    <EOF> \n",
      "    \n"
     ]
    }
   ],
   "source": [
    "%%chart line --fields timestamp,latency --data timeseries"
   ]
  },
  {
   "cell_type": "code",
   "execution_count": 6,
   "metadata": {
    "collapsed": false
   },
   "outputs": [
    {
     "data": {
      "text/html": [
       "\n",
       "    <div class=\"bqtv\" id=\"4_145877613851\"><table><tr><th>creating_fb_uid</th><th>count</th></tr><tr><td>0</td><td>48202</td></tr><tr><td>&nbsp;</td><td>25633</td></tr><tr><td>701004</td><td>16897</td></tr><tr><td>12126355</td><td>128</td></tr><tr><td>844834189</td><td>41</td></tr><tr><td>10202865886561351</td><td>32</td></tr><tr><td>650920953</td><td>30</td></tr><tr><td>1227780292</td><td>26</td></tr><tr><td>1018460109</td><td>24</td></tr><tr><td>584086070</td><td>21</td></tr><tr><td>100000912398353</td><td>21</td></tr><tr><td>100000510343727</td><td>21</td></tr><tr><td>100003520802528</td><td>20</td></tr><tr><td>1736750639</td><td>20</td></tr><tr><td>1057745694</td><td>19</td></tr><tr><td>609891678</td><td>18</td></tr><tr><td>10152770820411229</td><td>18</td></tr><tr><td>835000323</td><td>18</td></tr><tr><td>2411884</td><td>16</td></tr><tr><td>773712879306158</td><td>14</td></tr><tr><td>10151989526791345</td><td>13</td></tr><tr><td>100004987983015</td><td>13</td></tr><tr><td>10201019972702041</td><td>12</td></tr><tr><td>1628923853</td><td>10</td></tr><tr><td>10203571628510293</td><td>10</td></tr></table></div>\n",
       "    <br />(rows: 472, time: 0.6s, cached, job: job_6LMuMKfBJAvHs3ulCmAcs46rnHk)<br />\n",
       "    <script>\n",
       "      require(['extensions/charting', 'element!4_145877613851', 'style!/static/extensions/charting.css'],\n",
       "        function(charts, dom) {\n",
       "          charts.render(dom,\n",
       "            {\n",
       "              chartStyle:\"paged_table\",\n",
       "              dataName:\"2\",\n",
       "              fields:\"creating_fb_uid,count\",\n",
       "              totalRows:472,\n",
       "              rowsPerPage:25,\n",
       "            }, {}, {\"rows\": [{\"c\": [{\"v\": 0}, {\"v\": 48202}]}, {\"c\": [{\"v\": null}, {\"v\": 25633}]}, {\"c\": [{\"v\": 701004}, {\"v\": 16897}]}, {\"c\": [{\"v\": 12126355}, {\"v\": 128}]}, {\"c\": [{\"v\": 844834189}, {\"v\": 41}]}, {\"c\": [{\"v\": 10202865886561351}, {\"v\": 32}]}, {\"c\": [{\"v\": 650920953}, {\"v\": 30}]}, {\"c\": [{\"v\": 1227780292}, {\"v\": 26}]}, {\"c\": [{\"v\": 1018460109}, {\"v\": 24}]}, {\"c\": [{\"v\": 584086070}, {\"v\": 21}]}, {\"c\": [{\"v\": 100000912398353}, {\"v\": 21}]}, {\"c\": [{\"v\": 100000510343727}, {\"v\": 21}]}, {\"c\": [{\"v\": 100003520802528}, {\"v\": 20}]}, {\"c\": [{\"v\": 1736750639}, {\"v\": 20}]}, {\"c\": [{\"v\": 1057745694}, {\"v\": 19}]}, {\"c\": [{\"v\": 609891678}, {\"v\": 18}]}, {\"c\": [{\"v\": 10152770820411229}, {\"v\": 18}]}, {\"c\": [{\"v\": 835000323}, {\"v\": 18}]}, {\"c\": [{\"v\": 2411884}, {\"v\": 16}]}, {\"c\": [{\"v\": 773712879306158}, {\"v\": 14}]}, {\"c\": [{\"v\": 10151989526791345}, {\"v\": 13}]}, {\"c\": [{\"v\": 100004987983015}, {\"v\": 13}]}, {\"c\": [{\"v\": 10201019972702041}, {\"v\": 12}]}, {\"c\": [{\"v\": 1628923853}, {\"v\": 10}]}, {\"c\": [{\"v\": 10203571628510293}, {\"v\": 10}]}], \"cols\": [{\"type\": \"number\", \"id\": \"creating_fb_uid\", \"label\": \"creating_fb_uid\"}, {\"type\": \"number\", \"id\": \"count\", \"label\": \"count\"}]});\n",
       "        }\n",
       "      );\n",
       "    </script>\n",
       "  "
      ],
      "text/plain": [
       "QueryResultsTable job_6LMuMKfBJAvHs3ulCmAcs46rnHk"
      ]
     },
     "execution_count": 6,
     "metadata": {},
     "output_type": "execute_result"
    }
   ],
   "source": [
    "%%bigquery execute\n",
    "// Top Event Submittors\n",
    "SELECT creating_fb_uid, COUNT(*) as count FROM dance_events.dance_events group by creating_fb_uid order by count DESC;\n"
   ]
  }
 ],
 "metadata": {
  "kernelspec": {
   "display_name": "Python 2",
   "language": "python",
   "name": "python2"
  },
  "language_info": {
   "codemirror_mode": {
    "name": "ipython",
    "version": 2
   },
   "file_extension": ".py",
   "mimetype": "text/x-python",
   "name": "python",
   "nbconvert_exporter": "python",
   "pygments_lexer": "ipython2",
   "version": "2.7.9"
  }
 },
 "nbformat": 4,
 "nbformat_minor": 0
}
