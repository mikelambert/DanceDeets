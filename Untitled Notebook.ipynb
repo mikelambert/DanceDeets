{
 "cells": [
  {
   "cell_type": "code",
   "execution_count": 2,
   "metadata": {
    "collapsed": false
   },
   "outputs": [
    {
     "name": "stderr",
     "output_type": "stream",
     "text": [
      "Additional data is not supported with the bigquery schema command.\n"
     ]
    },
    {
     "name": "stdout",
     "output_type": "stream",
     "text": [
      "usage: bigquery schema [-h] [-v VIEW | -t TABLE]\n",
      "\n",
      "optional arguments:\n",
      "  -h, --help            show this help message and exit\n",
      "  -v VIEW, --view VIEW  the name of the view whose schema should be displayed\n",
      "  -t TABLE, --table TABLE\n",
      "                        the name of the table whose schema should be displayed\n"
     ]
    }
   ],
   "source": [
    "%%bigquery schema --table \"dancedeets-hrd:dance_events.dance_events\""
   ]
  },
  {
   "cell_type": "code",
   "execution_count": 4,
   "metadata": {
    "collapsed": false
   },
   "outputs": [
    {
     "name": "stderr",
     "output_type": "stream",
     "text": [
      "Cannot output multiple independently repeated fields at the same time. Found auto_categories and geohashes\n"
     ]
    }
   ],
   "source": [
    "%%bigquery sample --table \"dancedeets-hrd:dance_events.dance_events\"\n",
    "SELECT id, start_time,  from dance_events.dance_events LIMIT 10;\n"
   ]
  }
 ],
 "metadata": {
  "kernelspec": {
   "display_name": "Python 2",
   "language": "python",
   "name": "python2"
  },
  "language_info": {
   "codemirror_mode": {
    "name": "ipython",
    "version": 2
   },
   "file_extension": ".py",
   "mimetype": "text/x-python",
   "name": "python",
   "nbconvert_exporter": "python",
   "pygments_lexer": "ipython2",
   "version": "2.7.9"
  }
 },
 "nbformat": 4,
 "nbformat_minor": 0
}
