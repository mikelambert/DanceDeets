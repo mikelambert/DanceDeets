{
 "cells": [
  {
   "cell_type": "code",
   "execution_count": 2,
   "metadata": {
    "collapsed": false
   },
   "outputs": [
    {
     "name": "stderr",
     "output_type": "stream",
     "text": [
      "Additional data is not supported with the bigquery schema command.\n"
     ]
    },
    {
     "name": "stdout",
     "output_type": "stream",
     "text": [
      "usage: bigquery schema [-h] [-v VIEW | -t TABLE]\n",
      "\n",
      "optional arguments:\n",
      "  -h, --help            show this help message and exit\n",
      "  -v VIEW, --view VIEW  the name of the view whose schema should be displayed\n",
      "  -t TABLE, --table TABLE\n",
      "                        the name of the table whose schema should be displayed\n"
     ]
    }
   ],
   "source": [
    "%%bigquery schema --table \"dancedeets-hrd:dance_events.dance_events\""
   ]
  },
  {
   "cell_type": "code",
   "execution_count": 8,
   "metadata": {
    "collapsed": false
   },
   "outputs": [
    {
     "name": "stdout",
     "output_type": "stream",
     "text": [
      "bigquery: error: unrecognized arguments: --table dancedeets-hrd:dance_events.dance_events\n",
      "\n"
     ]
    },
    {
     "name": "stderr",
     "output_type": "stream",
     "text": [
      "usage: bigquery [-h]\n",
      "                {sample,dryrun,udf,execute,pipeline,table,schema,datasets,tables,extract,load}\n",
      "                ...\n",
      "\n",
      "Execute various BigQuery-related operations. Use \"%bigquery <command> -h\" for\n",
      "help on a specific command.\n",
      "\n",
      "positional arguments:\n",
      "  {sample,dryrun,udf,execute,pipeline,table,schema,datasets,tables,extract,load}\n",
      "                        commands\n",
      "    sample              Display a sample of the results of a BigQuery SQL\n",
      "                        query. The cell can optionally contain arguments for\n",
      "                        expanding variables in the query, if -q/--query was\n",
      "                        used, or it can contain SQL for a query.\n",
      "    dryrun              Execute a dry run of a BigQuery query and display\n",
      "                        approximate usage statistics\n",
      "    udf                 Create a named Javascript BigQuery UDF\n",
      "    execute             Execute a BigQuery SQL query and optionally send the\n",
      "                        results to a named table. The cell can optionally\n",
      "                        contain arguments for expanding variables in the\n",
      "                        query.\n",
      "    pipeline            Define a deployable pipeline based on a BigQuery\n",
      "                        query. The cell can optionally contain arguments for\n",
      "                        expanding variables in the query.\n",
      "    table               View a BigQuery table.\n",
      "    schema              View a BigQuery table or view schema.\n",
      "    datasets            List the datasets in a BigQuery project.\n",
      "    tables              List the tables in a BigQuery project or dataset.\n",
      "    extract             Extract BigQuery query results or table to GCS.\n",
      "    load                Load data from GCS into a BigQuery table.\n",
      "\n",
      "optional arguments:\n",
      "  -h, --help            show this help message and exit\n"
     ]
    }
   ],
   "source": [
    "%%bigquery execute --table \"dancedeets-hrd:dance_events.dance_events\"\n",
    "SELECT id, start_time, creating_fb_uid FROM dance_events.dance_events;\n"
   ]
  },
  {
   "cell_type": "code",
   "execution_count": null,
   "metadata": {
    "collapsed": true
   },
   "outputs": [],
   "source": []
  },
  {
   "cell_type": "code",
   "execution_count": null,
   "metadata": {
    "collapsed": true
   },
   "outputs": [],
   "source": []
  },
  {
   "cell_type": "code",
   "execution_count": null,
   "metadata": {
    "collapsed": true
   },
   "outputs": [],
   "source": []
  }
 ],
 "metadata": {
  "kernelspec": {
   "display_name": "Python 2",
   "language": "python",
   "name": "python2"
  },
  "language_info": {
   "codemirror_mode": {
    "name": "ipython",
    "version": 2
   },
   "file_extension": ".py",
   "mimetype": "text/x-python",
   "name": "python",
   "nbconvert_exporter": "python",
   "pygments_lexer": "ipython2",
   "version": "2.7.9"
  }
 },
 "nbformat": 4,
 "nbformat_minor": 0
}
